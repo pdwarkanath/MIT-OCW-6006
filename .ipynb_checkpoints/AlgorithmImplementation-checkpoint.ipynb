{
 "cells": [
  {
   "cell_type": "markdown",
   "metadata": {},
   "source": [
    "## Heap Sort"
   ]
  },
  {
   "cell_type": "markdown",
   "metadata": {},
   "source": [
    "Source: [Lecture 4 - Heaps and Heap Sort](https://www.youtube.com/watch?v=B7hVxCmfPtM)"
   ]
  },
  {
   "cell_type": "code",
   "execution_count": 1,
   "metadata": {},
   "outputs": [],
   "source": [
    "def max_heapify(A, i):\n",
    "    n = len(A)\n",
    "    if i >= n//2:\n",
    "        return A\n",
    "    else:\n",
    "        j = 2*i\n",
    "        try:\n",
    "            if (A[i] >= A[j+1]) and (A[i] >= A[j+2]):\n",
    "                return A\n",
    "            else:\n",
    "                if A[j+1] >= A[j+2]:\n",
    "                    A[i], A[j+1] = A[j+1], A[i]\n",
    "                    return max_heapify(A, j+1)\n",
    "                else:\n",
    "                    A[i], A[j+2] = A[j+2], A[i]\n",
    "                    return max_heapify(A, j+2)\n",
    "        except IndexError:\n",
    "            if A[i] >= A[j+1]:\n",
    "                return A\n",
    "            else:\n",
    "                A[i], A[j+1] = A[j+1], A[i]\n",
    "                return max_heapify(A, j+1)"
   ]
  },
  {
   "cell_type": "code",
   "execution_count": 2,
   "metadata": {},
   "outputs": [],
   "source": [
    "def build_max_heap(A):\n",
    "    n = len(A)\n",
    "    i = n//2\n",
    "    while i >= 0:\n",
    "        A = max_heapify(A, i)\n",
    "        i -= 1\n",
    "    return A"
   ]
  },
  {
   "cell_type": "code",
   "execution_count": 3,
   "metadata": {},
   "outputs": [],
   "source": [
    "A = [16, 4, 10, 14, 7, 9, 3, 2, 8, 1]"
   ]
  },
  {
   "cell_type": "code",
   "execution_count": 4,
   "metadata": {},
   "outputs": [
    {
     "data": {
      "text/plain": [
       "[16, 4, 10, 14, 7, 9, 3, 2, 8, 1]"
      ]
     },
     "execution_count": 4,
     "metadata": {},
     "output_type": "execute_result"
    }
   ],
   "source": [
    "A"
   ]
  },
  {
   "cell_type": "code",
   "execution_count": 5,
   "metadata": {},
   "outputs": [
    {
     "data": {
      "text/plain": [
       "[16, 14, 10, 8, 7, 9, 3, 2, 4, 1]"
      ]
     },
     "execution_count": 5,
     "metadata": {},
     "output_type": "execute_result"
    }
   ],
   "source": [
    "build_max_heap(A)"
   ]
  },
  {
   "cell_type": "code",
   "execution_count": 6,
   "metadata": {},
   "outputs": [
    {
     "data": {
      "text/plain": [
       "[16, 14, 10, 8, 7, 9, 3, 2, 4, 1]"
      ]
     },
     "execution_count": 6,
     "metadata": {},
     "output_type": "execute_result"
    }
   ],
   "source": [
    "A"
   ]
  },
  {
   "cell_type": "code",
   "execution_count": 7,
   "metadata": {},
   "outputs": [],
   "source": [
    "def heap_sort(A):\n",
    "    A = build_max_heap(A)\n",
    "    n = len(A)\n",
    "    Asorted = []\n",
    "    i = 0\n",
    "    while i < n:\n",
    "        A[0], A[-1] = A[-1], A[0]\n",
    "        Amax = A.pop()\n",
    "        Asorted.append(Amax)\n",
    "        max_heapify(A, 0)\n",
    "        i += 1\n",
    "    return Asorted[::-1]"
   ]
  },
  {
   "cell_type": "code",
   "execution_count": 8,
   "metadata": {},
   "outputs": [
    {
     "data": {
      "text/plain": [
       "[1, 2, 3, 4, 7, 8, 9, 10, 14, 16]"
      ]
     },
     "execution_count": 8,
     "metadata": {},
     "output_type": "execute_result"
    }
   ],
   "source": [
    "heap_sort(A)"
   ]
  },
  {
   "cell_type": "code",
   "execution_count": 9,
   "metadata": {},
   "outputs": [],
   "source": [
    "B = [324, 535, 43646, 647, 879, 79, 89]"
   ]
  },
  {
   "cell_type": "code",
   "execution_count": 10,
   "metadata": {},
   "outputs": [
    {
     "data": {
      "text/plain": [
       "[79, 89, 324, 535, 647, 879, 43646]"
      ]
     },
     "execution_count": 10,
     "metadata": {},
     "output_type": "execute_result"
    }
   ],
   "source": [
    "heap_sort(B)"
   ]
  },
  {
   "cell_type": "code",
   "execution_count": 11,
   "metadata": {},
   "outputs": [],
   "source": [
    "import numpy as np"
   ]
  },
  {
   "cell_type": "code",
   "execution_count": 12,
   "metadata": {},
   "outputs": [],
   "source": [
    "X = list(np.random.randint(0, 10, 23))"
   ]
  },
  {
   "cell_type": "code",
   "execution_count": 13,
   "metadata": {},
   "outputs": [
    {
     "name": "stdout",
     "output_type": "stream",
     "text": [
      "[1, 6, 8, 3, 1, 1, 7, 4, 7, 0, 1, 4, 2, 4, 4, 1, 6, 1, 2, 9, 9, 8, 0]\n"
     ]
    }
   ],
   "source": [
    "print(X)"
   ]
  },
  {
   "cell_type": "code",
   "execution_count": 14,
   "metadata": {},
   "outputs": [
    {
     "name": "stdout",
     "output_type": "stream",
     "text": [
      "[0, 0, 1, 1, 1, 1, 1, 1, 2, 2, 3, 4, 4, 4, 4, 6, 6, 7, 7, 8, 8, 9, 9]\n"
     ]
    }
   ],
   "source": [
    "print(heap_sort(X))"
   ]
  },
  {
   "cell_type": "code",
   "execution_count": null,
   "metadata": {},
   "outputs": [],
   "source": []
  }
 ],
 "metadata": {
  "kernelspec": {
   "display_name": "Python 3",
   "language": "python",
   "name": "python3"
  },
  "language_info": {
   "codemirror_mode": {
    "name": "ipython",
    "version": 3
   },
   "file_extension": ".py",
   "mimetype": "text/x-python",
   "name": "python",
   "nbconvert_exporter": "python",
   "pygments_lexer": "ipython3",
   "version": "3.6.5"
  }
 },
 "nbformat": 4,
 "nbformat_minor": 2
}
